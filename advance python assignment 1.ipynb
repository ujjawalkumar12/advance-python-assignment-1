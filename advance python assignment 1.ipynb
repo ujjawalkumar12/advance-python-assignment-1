{
 "cells": [
  {
   "cell_type": "markdown",
   "id": "bedb9830",
   "metadata": {},
   "source": [
    "1. What is the purpose of Python's OOP?"
   ]
  },
  {
   "cell_type": "markdown",
   "id": "2a703d31",
   "metadata": {},
   "source": [
    "Object-oriented Programming (OOPs) is a programming paradigm that uses objects and classes in programming. It aims to implement real-world entities like inheritance, polymorphisms, encapsulation, etc. in the programming. The main concept of OOPs is to bind the data and the functions that work on that together as a single unit so that no other part of the code can access this data."
   ]
  },
  {
   "cell_type": "markdown",
   "id": "bcb8278a",
   "metadata": {},
   "source": [
    "2. Where does an inheritance search look for an attribute?"
   ]
  },
  {
   "cell_type": "markdown",
   "id": "cc946b95",
   "metadata": {},
   "source": [
    "Python searches for an attribute in an upward tree of attributes. Tt first searches for the attribute in its instance and then looks in the class it is generated from, to all super classes listed in its class header."
   ]
  },
  {
   "cell_type": "markdown",
   "id": "cd890bc4",
   "metadata": {},
   "source": [
    "3. How do you distinguish between a class object and an instance object?"
   ]
  },
  {
   "cell_type": "markdown",
   "id": "8e941828",
   "metadata": {},
   "source": [
    "The difference between a class object and an instance object are:\n",
    "\n",
    "1. class is a template for creating objects whereas object is an insance of object\n",
    "2. Seperate memory is allocated for each object whenever an object is created. but for a class this doesnot happens.\n",
    "3. A Class is created once. Many objects are created using a class.\n",
    "4. As Classes have no allocated memory. they can't be manipulated. but objects can be manipulated."
   ]
  },
  {
   "cell_type": "markdown",
   "id": "93e5642a",
   "metadata": {},
   "source": [
    "4. What makes the first argument in a class’s method function special?"
   ]
  },
  {
   "cell_type": "markdown",
   "id": "b58c6c06",
   "metadata": {},
   "source": [
    " Python Classes usually have three types of methods which are:\n",
    "\n",
    "1. Instance Methods (object level methods)\n",
    "2. Class Methods (class level methods)\n",
    "3. Static Methods (general utility methods)\n",
    "4. self is the first argument for instance methods. which refers to the object itself\n",
    "5. cls is the first argument for class methods which refers to the class itself"
   ]
  },
  {
   "cell_type": "markdown",
   "id": "a5a0fe12",
   "metadata": {},
   "source": [
    "5. What is the purpose of the init method?"
   ]
  },
  {
   "cell_type": "markdown",
   "id": "8290884f",
   "metadata": {},
   "source": [
    "The __init__ method lets the class initialize the object's attributes and serves no other purpose. It is only used within classes."
   ]
  },
  {
   "cell_type": "markdown",
   "id": "1f466140",
   "metadata": {},
   "source": [
    "6. What is the process for creating a class instance?"
   ]
  },
  {
   "cell_type": "markdown",
   "id": "1b2866e8",
   "metadata": {},
   "source": [
    "To create a class instance, we need to call the class by its name and pass the arguments to the class, which its init method accepts.\n",
    "\n",
    "Example: my_name = my_class(\"ujjawal\",\"kumar\") Here my_name is an instance of class my_class with attributes \"ujjawal\" and \"kumar\"."
   ]
  },
  {
   "cell_type": "markdown",
   "id": "155841cb",
   "metadata": {},
   "source": [
    "7. What is the process for creating a class?"
   ]
  },
  {
   "cell_type": "markdown",
   "id": "584068c4",
   "metadata": {},
   "source": [
    "class keyword is used to created a class in python. The syntax to create a class in python is class :\n",
    "\n",
    "Example: class Car: ➞ this creates a class called Car"
   ]
  },
  {
   "cell_type": "markdown",
   "id": "b19206ef",
   "metadata": {},
   "source": [
    "8. How would you define the superclasses of a class?"
   ]
  },
  {
   "cell_type": "markdown",
   "id": "7788d1da",
   "metadata": {},
   "source": [
    "Superclass/Parent class is given as a arugment to the child class\n",
    "\n",
    "Example: class Employee(Person): Here child class Employee inherits attributes and methofs from Superclass/Parent Person"
   ]
  }
 ],
 "metadata": {
  "kernelspec": {
   "display_name": "Python 3 (ipykernel)",
   "language": "python",
   "name": "python3"
  },
  "language_info": {
   "codemirror_mode": {
    "name": "ipython",
    "version": 3
   },
   "file_extension": ".py",
   "mimetype": "text/x-python",
   "name": "python",
   "nbconvert_exporter": "python",
   "pygments_lexer": "ipython3",
   "version": "3.9.12"
  }
 },
 "nbformat": 4,
 "nbformat_minor": 5
}
